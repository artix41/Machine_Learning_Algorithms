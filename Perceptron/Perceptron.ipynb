{
 "cells": [
  {
   "cell_type": "markdown",
   "metadata": {},
   "source": [
    "# Simple Perceptron that Learns AND Function"
   ]
  },
  {
   "cell_type": "code",
   "execution_count": 1,
   "metadata": {
    "collapsed": false
   },
   "outputs": [],
   "source": [
    "import numpy as np\n",
    "import matplotlib.pyplot as plt\n",
    "%matplotlib inline\n",
    "\n",
    "from random import randint"
   ]
  },
  {
   "cell_type": "markdown",
   "metadata": {},
   "source": [
    "## Create the Neural Network"
   ]
  },
  {
   "cell_type": "code",
   "execution_count": 2,
   "metadata": {
    "collapsed": true
   },
   "outputs": [],
   "source": [
    "def sigmoid(x):\n",
    "    return 1./(1+np.exp(-x))"
   ]
  },
  {
   "cell_type": "code",
   "execution_count": 3,
   "metadata": {
    "collapsed": false
   },
   "outputs": [],
   "source": [
    "class NN:\n",
    "    def __init__(self, nbr_inputs, nbr_outputs):\n",
    "        self.nbr_outputs = nbr_outputs\n",
    "        self.W = np.array([[0.]*nbr_inputs]*nbr_outputs) # weight[i,j] links input j to output i\n",
    "        self.b = [0.]*nbr_outputs\n",
    "        self.output = [0.]*nbr_outputs\n",
    "        \n",
    "    def forward(self, x):\n",
    "        return sigmoid(np.dot(self.W,x) + self.b)\n",
    "        \n",
    "    def backprop(self, x, y, lr=0.01):\n",
    "        self.output = self.forward(x)\n",
    "        for iNeuron in range(self.nbr_outputs):\n",
    "            grad_w = self.output[iNeuron] * (1. - self.output[iNeuron]) * (self.output[iNeuron] - y[iNeuron]) * x\n",
    "            grad_b = self.output[iNeuron] * (1. - self.output[iNeuron]) * (self.output[iNeuron] - y[iNeuron])\n",
    "            self.W[iNeuron] -= lr * grad_w\n",
    "            self.b[iNeuron] -= lr * grad_b"
   ]
  },
  {
   "cell_type": "markdown",
   "metadata": {},
   "source": [
    "## Learn AND function"
   ]
  },
  {
   "cell_type": "markdown",
   "metadata": {},
   "source": [
    "### Create the data"
   ]
  },
  {
   "cell_type": "code",
   "execution_count": 4,
   "metadata": {
    "collapsed": true
   },
   "outputs": [],
   "source": [
    "nb_iter = 50000\n",
    "X = []\n",
    "Y = []\n",
    "for i in range(nb_iter):\n",
    "    x1 = randint(0,1)\n",
    "    x2 = randint(0,1)\n",
    "    X.append([x1,x2])\n",
    "    Y.append([x1 & x2])\n",
    "X = np.array(X, dtype=float)\n",
    "Y = np.array(Y, dtype=float)"
   ]
  },
  {
   "cell_type": "code",
   "execution_count": 6,
   "metadata": {
    "collapsed": false
   },
   "outputs": [
    {
     "name": "stdout",
     "output_type": "stream",
     "text": [
      "[[ 0.  0.]\n",
      " [ 0.  0.]\n",
      " [ 0.  1.]\n",
      " ..., \n",
      " [ 0.  0.]\n",
      " [ 0.  0.]\n",
      " [ 1.  0.]]\n",
      "[[ 0.]\n",
      " [ 0.]\n",
      " [ 0.]\n",
      " ..., \n",
      " [ 0.]\n",
      " [ 0.]\n",
      " [ 0.]]\n"
     ]
    }
   ],
   "source": [
    "print(X)\n",
    "print(Y)"
   ]
  },
  {
   "cell_type": "markdown",
   "metadata": {},
   "source": [
    "### Train the network"
   ]
  },
  {
   "cell_type": "code",
   "execution_count": 7,
   "metadata": {
    "collapsed": false
   },
   "outputs": [],
   "source": [
    "model = NN(2,1)"
   ]
  },
  {
   "cell_type": "code",
   "execution_count": 8,
   "metadata": {
    "collapsed": false
   },
   "outputs": [],
   "source": [
    "for i in range(50000):\n",
    "    model.backprop(X[i], Y[i], lr=0.01)"
   ]
  },
  {
   "cell_type": "code",
   "execution_count": 18,
   "metadata": {
    "collapsed": false
   },
   "outputs": [
    {
     "name": "stdout",
     "output_type": "stream",
     "text": [
      "Weights :  [[ 2.88825485  2.87978447]]\n",
      "Bias :  [-4.4493586005927801]\n",
      "\n",
      "Result :  1.0\n",
      "Probability :  0.78896212886\n"
     ]
    }
   ],
   "source": [
    "x = [1,1]\n",
    "print(\"Weights : \", model.W)\n",
    "print(\"Bias : \", model.b)\n",
    "print()\n",
    "print(\"Result : \", np.round(model.forward(x)[0]))\n",
    "print(\"Probability : \", model.forward(x)[0])"
   ]
  },
  {
   "cell_type": "code",
   "execution_count": null,
   "metadata": {
    "collapsed": true
   },
   "outputs": [],
   "source": []
  },
  {
   "cell_type": "code",
   "execution_count": null,
   "metadata": {
    "collapsed": true
   },
   "outputs": [],
   "source": []
  },
  {
   "cell_type": "code",
   "execution_count": null,
   "metadata": {
    "collapsed": true
   },
   "outputs": [],
   "source": []
  },
  {
   "cell_type": "code",
   "execution_count": null,
   "metadata": {
    "collapsed": true
   },
   "outputs": [],
   "source": []
  }
 ],
 "metadata": {
  "kernelspec": {
   "display_name": "Python 3",
   "language": "python",
   "name": "python3"
  },
  "language_info": {
   "codemirror_mode": {
    "name": "ipython",
    "version": 3
   },
   "file_extension": ".py",
   "mimetype": "text/x-python",
   "name": "python",
   "nbconvert_exporter": "python",
   "pygments_lexer": "ipython3",
   "version": "3.5.2"
  }
 },
 "nbformat": 4,
 "nbformat_minor": 0
}
