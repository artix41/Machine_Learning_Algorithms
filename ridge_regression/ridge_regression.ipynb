{
 "cells": [
  {
   "cell_type": "markdown",
   "metadata": {},
   "source": [
    "# Ridge regression on a simple 2D example"
   ]
  },
  {
   "cell_type": "code",
   "execution_count": 2,
   "metadata": {
    "collapsed": true
   },
   "outputs": [],
   "source": [
    "import numpy as np\n",
    "import matplotlib.pyplot as plt\n",
    "%matplotlib inline"
   ]
  },
  {
   "cell_type": "markdown",
   "metadata": {},
   "source": [
    "## Generate the points"
   ]
  },
  {
   "cell_type": "code",
   "execution_count": 116,
   "metadata": {
    "collapsed": false
   },
   "outputs": [
    {
     "name": "stdout",
     "output_type": "stream",
     "text": [
      "[[ 0.55  0.45]\n",
      " [ 0.45  0.55]]\n"
     ]
    }
   ],
   "source": [
    "mean = np.array([0,0])\n",
    "P = np.array([[1, 1], [-1, 1]]) # matrice de changement de base, pour pencher ma distribution\n",
    "cov = np.dot(np.dot(P, np.array([[0.1,0],[0,1]])), np.linalg.inv(P))\n",
    "print cov"
   ]
  },
  {
   "cell_type": "code",
   "execution_count": 117,
   "metadata": {
    "collapsed": false
   },
   "outputs": [],
   "source": [
    "x, y = np.random.multivariate_normal(mean, cov, 100).T"
   ]
  },
  {
   "cell_type": "code",
   "execution_count": 118,
   "metadata": {
    "collapsed": false
   },
   "outputs": [
    {
     "data": {
      "text/plain": [
       "<matplotlib.collections.PathCollection at 0x7fc1e535d450>"
      ]
     },
     "execution_count": 118,
     "metadata": {},
     "output_type": "execute_result"
    },
    {
     "data": {
      "image/png": "[encoded data removed]",
      "text/plain": [
       "<matplotlib.figure.Figure at 0x7fc1e5426150>"
      ]
     },
     "metadata": {},
     "output_type": "display_data"
    }
   ],
   "source": [
    "plt.axis([-3,3,-3,3])\n",
    "plt.scatter(x, y)"
   ]
  },
  {
   "cell_type": "code",
   "execution_count": 124,
   "metadata": {
    "collapsed": false
   },
   "outputs": [],
   "source": [
    "one = np.ones(len(x)).reshape(len(x), 1) # for the bias\n",
    "\n",
    "X, y = np.concatenate([one, x.reshape(len(x), 1)], axis=1) , y.reshape(len(y), 1)"
   ]
  },
  {
   "cell_type": "markdown",
   "metadata": {},
   "source": [
    "## Compute the model\n",
    "\n",
    "We want to estimate $y_i$ with $f(x_i) = w \\cdot x_i$ . Here, w is 2D column vector (the slope and the bias), x is a 2D row vector (the first column is 1, for the bias).\n",
    "\n",
    "We seek to minimize $R(w) =  \\sum_i{(w \\cdot x_i - y_i)^2} = ||X w - Y||^2$.\n",
    "\n",
    "Since then, $\\nabla_w R(w) = X^T X w - X^T Y = 0$ ($X^T X$ est une matrice carrée de dimension 2). \n",
    "\n",
    "If $ X^T X$ is invertible, we directly have $w$. Otherwise, we can replace it by $ X^T X + \\lambda I$ with $\\lambda$ near 0 ($\\lambda$ is the regularisation term, also known as ridge)"
   ]
  },
  {
   "cell_type": "code",
   "execution_count": 125,
   "metadata": {
    "collapsed": false
   },
   "outputs": [
    {
     "name": "stdout",
     "output_type": "stream",
     "text": [
      "[[ 100.           19.02032048]\n",
      " [  19.02032048   55.82808969]]\n"
     ]
    }
   ],
   "source": [
    "S = np.dot(X.transpose(), X)\n",
    "lamda = 0.9\n",
    "print S"
   ]
  },
  {
   "cell_type": "code",
   "execution_count": 126,
   "metadata": {
    "collapsed": false
   },
   "outputs": [
    {
     "name": "stdout",
     "output_type": "stream",
     "text": [
      "[[-0.00456616]\n",
      " [ 0.76935654]]\n"
     ]
    }
   ],
   "source": [
    "w = np.dot(np.dot(np.linalg.inv(S + lamda * np.eye(len(S))), X.transpose()), y)\n",
    "print w"
   ]
  },
  {
   "cell_type": "markdown",
   "metadata": {},
   "source": [
    "## Display the result"
   ]
  },
  {
   "cell_type": "code",
   "execution_count": 127,
   "metadata": {
    "collapsed": false
   },
   "outputs": [
    {
     "data": {
      "text/plain": [
       "[<matplotlib.lines.Line2D at 0x7f7aed8eca90>]"
      ]
     },
     "execution_count": 127,
     "metadata": {},
     "output_type": "execute_result"
    },
    {
     "data": {
      "image/png": "[encoded data removed]",
      "text/plain": [
       "<matplotlib.figure.Figure at 0x7f7aedcbcc10>"
      ]
     },
     "metadata": {},
     "output_type": "display_data"
    }
   ],
   "source": [
    "new_x = np.linspace(-5, 5, 101)\n",
    "y_predict = w[1] * new_x + w[0]\n",
    "\n",
    "plt.axis([-3,3,-3,3])\n",
    "plt.scatter(x, y)\n",
    "plt.plot(new_x, y_predict)"
   ]
  },
  {
   "cell_type": "code",
   "execution_count": null,
   "metadata": {
    "collapsed": true
   },
   "outputs": [],
   "source": []
  }
 ],
 "metadata": {
  "kernelspec": {
   "display_name": "Python 2",
   "language": "python",
   "name": "python2"
  },
  "language_info": {
   "codemirror_mode": {
    "name": "ipython",
    "version": 2
   },
   "file_extension": ".py",
   "mimetype": "text/x-python",
   "name": "python",
   "nbconvert_exporter": "python",
   "pygments_lexer": "ipython2",
   "version": "2.7.12"
  }
 },
 "nbformat": 4,
 "nbformat_minor": 0
}
