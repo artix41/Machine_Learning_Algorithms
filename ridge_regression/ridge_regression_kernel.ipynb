{
 "cells": [
  {
   "cell_type": "markdown",
   "metadata": {},
   "source": [
    "# Ridge regression with kernel trick"
   ]
  },
  {
   "cell_type": "code",
   "execution_count": 1,
   "metadata": {
    "collapsed": false
   },
   "outputs": [],
   "source": [
    "import numpy as np\n",
    "import matplotlib.pyplot as plt\n",
    "%matplotlib inline\n",
    "plt.style.use('fivethirtyeight')"
   ]
  },
  {
   "cell_type": "markdown",
   "metadata": {},
   "source": [
    "## Generate the points"
   ]
  },
  {
   "cell_type": "code",
   "execution_count": 2,
   "metadata": {
    "collapsed": false
   },
   "outputs": [],
   "source": [
    "mean1 = np.array([0,0])\n",
    "mean2 = np.array([2,0])\n",
    "\n",
    "P = np.array([[1,1], [-1,1]]) # matrice de changement de base, pour pencher ma distribution\n",
    "cov1 = np.dot(np.dot(P, np.array([[0.1,0],[0,1]])), np.linalg.inv(P))\n",
    "cov2 = np.dot(np.dot(P, np.array([[1,0],[0,0.1]])), np.linalg.inv(P))"
   ]
  },
  {
   "cell_type": "code",
   "execution_count": 3,
   "metadata": {
    "collapsed": true
   },
   "outputs": [],
   "source": [
    "x1, y1 = np.random.multivariate_normal(mean1, cov1, 100).T\n",
    "x2, y2 = np.random.multivariate_normal(mean2, cov2, 100).T\n",
    "x = np.concatenate([x1, x2])\n",
    "y = np.concatenate([y1, y2])"
   ]
  },
  {
   "cell_type": "code",
   "execution_count": 4,
   "metadata": {
    "collapsed": false
   },
   "outputs": [
    {
     "data": {
      "text/plain": [
       "<matplotlib.collections.PathCollection at 0x7f0fa40f79d0>"
      ]
     },
     "execution_count": 4,
     "metadata": {},
     "output_type": "execute_result"
    },
    {
     "data": {
      "image/png": "[encoded data removed]",
      "text/plain": [
       "<matplotlib.figure.Figure at 0x7f0fa6bf8150>"
      ]
     },
     "metadata": {},
     "output_type": "display_data"
    }
   ],
   "source": [
    "plt.axis([-3,5,-3,3])\n",
    "plt.scatter(x, y, color=\"blue\")"
   ]
  },
  {
   "cell_type": "code",
   "execution_count": 5,
   "metadata": {
    "collapsed": false
   },
   "outputs": [],
   "source": [
    "one = np.ones(len(x)).reshape(len(x), 1) # for the bias\n",
    "\n",
    "X, y = np.concatenate([one, x.reshape(len(x), 1)], axis=1) , y.reshape(len(y), 1)"
   ]
  },
  {
   "cell_type": "markdown",
   "metadata": {},
   "source": [
    "## Compute the model\n",
    "\n",
    "The previous notebook showed that $w = (X^T X + \\lambda I)^{-1} X^T Y$. By noticing that $(X^T X + \\lambda I)X^T = X^T (X X^T + \\lambda I)$ and multiplying both parts of the equation by $(X^T X + \\lambda I)^{-1}$ (left) et  $(X X^T + \\lambda I)^{-1} Y$ (right), one can rewrite $w = X^T (X^T X + \\lambda I)^{-1} Y$. \n",
    "\n",
    "Thus, $\\hat{y} = w^T \\hat{x} = Y^T (X X^T + \\lambda I)^{-1} X \\hat{x}$\n",
    "\n",
    "To map x into a greater dimensions space with powers of its coefficients, one can replace the inner product by a kernel : $K_{ij} = k(X_i,X_j)$ and $\\kappa_i = k(X_i,\\hat{x})$.\n",
    "\n",
    "The list of kernels can be found at http://crsouza.com/2010/03/17/kernel-functions-for-machine-learning-applications/"
   ]
  },
  {
   "cell_type": "code",
   "execution_count": 6,
   "metadata": {
    "collapsed": false
   },
   "outputs": [],
   "source": [
    "def linear_kernel(x1, x2):\n",
    "    return np.dot(x1, x2)\n",
    "\n",
    "def polynomial_kernel(x1, x2, d=2):\n",
    "    return (np.dot(x1, x2) + 1)**d\n",
    "\n",
    "def gaussian_kernel(x1, x2, gamma=1):\n",
    "    # experimentally : the bigger gamma is, the higher is the capacity of the model\n",
    "    return np.exp(-gamma * np.linalg.norm(x1 - x2)**2)\n",
    "\n",
    "def exponential_kernel(x1, x2, gamma=1):\n",
    "    return np.exp(-gamma * np.linalg.norm(x1 - x2))\n",
    "\n",
    "def tanh_kernel(x1, x2, alpha=1):\n",
    "    # experimentally : the bigger alpha is, the higher is the capacity of the model\n",
    "    return np.tanh(alpha * np.dot(x1, x2))\n",
    "\n",
    "def rational_quadratic_kernel(x1, x2, c=1):\n",
    "    return 1 - (np.linalg.norm(x1 - x2)**2)/(c + np.linalg.norm(x1 - x2)**2)\n",
    "\n",
    "def power_kernel(x1, x2, d=4):\n",
    "    return - np.linalg.norm(x1 - x2)**d\n",
    "\n",
    "def K(X1, X2, kernel=polynomial_kernel):\n",
    "    return np.array([[kernel(X1[i], X2[j]) for i in range(X1.shape[0])] for j in range(X1.shape[0])])\n",
    "\n",
    "def kappa(X1, x2, kernel=polynomial_kernel):\n",
    "    return np.array([kernel(X1[i], x2) for i in range(len(X1))])"
   ]
  },
  {
   "cell_type": "code",
   "execution_count": 7,
   "metadata": {
    "collapsed": false
   },
   "outputs": [
    {
     "name": "stdout",
     "output_type": "stream",
     "text": [
      "(200, 1)\n",
      "(200, 200)\n",
      "[[ 9.91499794 -0.08313482 -0.02352309 ..., -0.07993411 -0.08557222\n",
      "  -0.05505303]\n",
      " [-0.08313482  9.91729593 -0.01685636 ..., -0.08115303 -0.08202921\n",
      "  -0.06437928]\n",
      " [-0.02352309 -0.01685636  9.88117391 ..., -0.01033951 -0.03303449\n",
      "   0.01181886]\n",
      " ..., \n",
      " [-0.07993411 -0.08115303 -0.01033951 ...,  9.91846928 -0.0769562\n",
      "  -0.07453246]\n",
      " [-0.08557222 -0.08202921 -0.03303449 ..., -0.0769562   9.91182336\n",
      "  -0.04332529]\n",
      " [-0.05505303 -0.06437928  0.01181886 ..., -0.07453246 -0.04332529\n",
      "   9.88039547]]\n"
     ]
    }
   ],
   "source": [
    "S = K(X, X)\n",
    "lamda = 0.1\n",
    "print y.shape\n",
    "print S.shape\n",
    "print np.linalg.inv(S + lamda * np.eye(len(S)))"
   ]
  },
  {
   "cell_type": "code",
   "execution_count": 8,
   "metadata": {
    "collapsed": false
   },
   "outputs": [],
   "source": [
    "def f(x, S, kernel):\n",
    "    return np.dot(np.dot(y.transpose(), np.linalg.inv(S + lamda * np.eye(len(S)))), kappa(X, x, kernel=kernel))\n",
    "\n",
    "def F(x_vect, kernel):\n",
    "    S = K(X, X, kernel=kernel)\n",
    "    return np.array([f(x_vect[i], S, kernel) for i in range(len(x_vect))])"
   ]
  },
  {
   "cell_type": "markdown",
   "metadata": {},
   "source": [
    "## Display the result"
   ]
  },
  {
   "cell_type": "code",
   "execution_count": null,
   "metadata": {
    "collapsed": false
   },
   "outputs": [
    {
     "data": {
      "text/plain": [
       "[<matplotlib.lines.Line2D at 0x7f0fa2f5f850>,\n",
       " <matplotlib.lines.Line2D at 0x7f0fa2eed350>]"
      ]
     },
     "execution_count": 9,
     "metadata": {},
     "output_type": "execute_result"
    }
   ],
   "source": [
    "plt.rcParams[\"figure.figsize\"] = (12,12)\n",
    "\n",
    "new_x = np.concatenate([np.ones(101).reshape(101,1), np.linspace(-4, 5, 101).reshape(101, 1)], axis=1)\n",
    "\n",
    "y_linear = F(new_x, linear_kernel)\n",
    "y_poly = F(new_x, polynomial_kernel)\n",
    "y_gauss = F(new_x, gaussian_kernel)\n",
    "y_tanh = F(new_x, tanh_kernel)\n",
    "y_rq = F(new_x, rational_quadratic_kernel)\n",
    "y_power = F(new_x, power_kernel)\n",
    "\n",
    "plt.subplot(331)\n",
    "plt.title(\"Linear\")\n",
    "plt.axis([-3,5,-3,3])\n",
    "plt.scatter(x, y)\n",
    "plt.plot(new_x, y_linear)\n",
    "\n",
    "plt.subplot(332)\n",
    "plt.title(\"Polynomial 2\")\n",
    "plt.axis([-3,5,-3,3])\n",
    "plt.scatter(x, y)\n",
    "plt.plot(new_x, y_poly)\n",
    "\n",
    "plt.subplot(333)\n",
    "plt.title(\"Gaussian\")\n",
    "plt.axis([-3,5,-3,3])\n",
    "plt.scatter(x, y)\n",
    "plt.plot(new_x, y_gauss)\n",
    "\n",
    "plt.subplot(334)\n",
    "plt.title(\"Tanh\")\n",
    "plt.axis([-3,5,-3,3])\n",
    "plt.scatter(x, y)\n",
    "plt.plot(new_x, y_tanh)\n",
    "\n",
    "plt.subplot(335)\n",
    "plt.title(\"Rational quadratic\")\n",
    "plt.axis([-3,5,-3,3])\n",
    "plt.scatter(x, y)\n",
    "plt.plot(new_x, y_rq)\n",
    "\n",
    "plt.subplot(336)\n",
    "plt.title(\"Power 4\")\n",
    "plt.axis([-3,5,-3,3])\n",
    "plt.scatter(x, y)\n",
    "plt.plot(new_x, y_power)\n"
   ]
  },
  {
   "cell_type": "code",
   "execution_count": null,
   "metadata": {
    "collapsed": true
   },
   "outputs": [],
   "source": []
  },
  {
   "cell_type": "code",
   "execution_count": null,
   "metadata": {
    "collapsed": true
   },
   "outputs": [],
   "source": []
  }
 ],
 "metadata": {
  "kernelspec": {
   "display_name": "Python 2",
   "language": "python",
   "name": "python2"
  },
  "language_info": {
   "codemirror_mode": {
    "name": "ipython",
    "version": 2
   },
   "file_extension": ".py",
   "mimetype": "text/x-python",
   "name": "python",
   "nbconvert_exporter": "python",
   "pygments_lexer": "ipython2",
   "version": "2.7.12"
  }
 },
 "nbformat": 4,
 "nbformat_minor": 0
}
