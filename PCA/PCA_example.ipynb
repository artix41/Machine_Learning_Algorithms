{
 "cells": [
  {
   "cell_type": "markdown",
   "metadata": {},
   "source": [
    "# Principal Component Analysis on a simple 2D example"
   ]
  },
  {
   "cell_type": "code",
   "execution_count": 1,
   "metadata": {
    "collapsed": false
   },
   "outputs": [],
   "source": [
    "import numpy as np\n",
    "import matplotlib.pyplot as plt\n",
    "%matplotlib inline\n",
    "plt.style.use('bmh')"
   ]
  },
  {
   "cell_type": "markdown",
   "metadata": {},
   "source": [
    "## Create the data"
   ]
  },
  {
   "cell_type": "code",
   "execution_count": 2,
   "metadata": {
    "collapsed": false
   },
   "outputs": [
    {
     "name": "stdout",
     "output_type": "stream",
     "text": [
      "[[ 0.55  0.45]\n",
      " [ 0.45  0.55]]\n"
     ]
    }
   ],
   "source": [
    "mean = np.array([0,0])\n",
    "P = np.array([[1, 1], [-1, 1]]) # kind of rotation matrix, to bend my distribution\n",
    "cov = np.dot(np.dot(P, np.array([[0.1,0],[0,1]])), np.linalg.inv(P))\n",
    "\n",
    "print cov"
   ]
  },
  {
   "cell_type": "code",
   "execution_count": 3,
   "metadata": {
    "collapsed": true
   },
   "outputs": [],
   "source": [
    "x, y = np.random.multivariate_normal(mean, cov, 100).T"
   ]
  },
  {
   "cell_type": "code",
   "execution_count": 4,
   "metadata": {
    "collapsed": false
   },
   "outputs": [
    {
     "data": {
      "text/plain": [
       "<matplotlib.collections.PathCollection at 0x7fab47e88850>"
      ]
     },
     "execution_count": 4,
     "metadata": {},
     "output_type": "execute_result"
    },
    {
     "data": {
      "image/png": "[encoded data removed]",
      "text/plain": [
       "<matplotlib.figure.Figure at 0x7fab4a982190>"
      ]
     },
     "metadata": {},
     "output_type": "display_data"
    }
   ],
   "source": [
    "plt.axis([-3,3,-3,3])\n",
    "plt.scatter(x, y)"
   ]
  },
  {
   "cell_type": "markdown",
   "metadata": {},
   "source": [
    "## Find and display the components\n",
    "\n",
    "We want the covariance matrix of the data to be diagonal. The unbiased covariance is given by $\\frac{1}{m-1} X^T X$ (if $X$ is centered), which is symmetric positive. Therefore, it can be diagonalised with an orthogonal matrix: $X^T X = W \\Sigma W^T$. Each column of $W$ contains a component\n",
    "\n",
    "Thus, $\\Sigma = W^T X^T X W = Z^T Z = (m - 1) covar(Z)$ if we defined $Z = XW$. \n",
    "\n",
    "$Z$ is therefore our new representation (its covariance is diagonal)"
   ]
  },
  {
   "cell_type": "code",
   "execution_count": 26,
   "metadata": {
    "collapsed": false
   },
   "outputs": [],
   "source": [
    "X = np.concatenate([x.reshape(len(x), 1), y.reshape(len(y), 1)], axis=1)"
   ]
  },
  {
   "cell_type": "code",
   "execution_count": 27,
   "metadata": {
    "collapsed": false
   },
   "outputs": [
    {
     "name": "stdout",
     "output_type": "stream",
     "text": [
      "[[-0.73428742 -0.67883871]\n",
      " [ 0.67883871 -0.73428742]]\n",
      "[ 10.64122821  96.32352248]\n"
     ]
    }
   ],
   "source": [
    "W = np.linalg.eig(np.dot(X.transpose(), X))[1]\n",
    "vp = np.linalg.eig(np.dot(X.transpose(), X))[0]\n",
    "print W\n",
    "print vp"
   ]
  },
  {
   "cell_type": "code",
   "execution_count": 34,
   "metadata": {
    "collapsed": false
   },
   "outputs": [
    {
     "data": {
      "text/plain": [
       "<matplotlib.patches.FancyArrow at 0x7fb0b11facd0>"
      ]
     },
     "execution_count": 34,
     "metadata": {},
     "output_type": "execute_result"
    },
    {
     "data": {
      "image/png": "[encoded data removed]",
      "text/plain": [
       "<matplotlib.figure.Figure at 0x7fb0b1273190>"
      ]
     },
     "metadata": {},
     "output_type": "display_data"
    }
   ],
   "source": [
    "plt.axis(\"equal\")\n",
    "plt.axis([-3,3,-3,3])\n",
    "plt.scatter(x, y)\n",
    "\n",
    "norm = 2.5 # we want the biggest arrow to have norm 2.5\n",
    "if vp[0] > vp[1]:\n",
    "    coeff0 = norm\n",
    "    coeff1 = norm * vp[1] / vp[0]\n",
    "else:\n",
    "    coeff1 = norm\n",
    "    coeff0 = norm * vp[0] / vp[1]\n",
    "\n",
    "plt.arrow(0, 0, W[0][0]*coeff0, W[1][0]*coeff0, head_width=0.2, head_length=0.2, width=0.05, fc='r', ec='r')\n",
    "plt.arrow(0, 0, W[0][1]*coeff1, W[1][1]*coeff1, head_width=0.2, head_length=0.2, width=0.05, fc='k', ec='k')"
   ]
  },
  {
   "cell_type": "markdown",
   "metadata": {},
   "source": [
    "## Compute and display the new representation"
   ]
  },
  {
   "cell_type": "code",
   "execution_count": 35,
   "metadata": {
    "collapsed": false
   },
   "outputs": [
    {
     "data": {
      "text/plain": [
       "<matplotlib.collections.PathCollection at 0x7fb0b1119e50>"
      ]
     },
     "execution_count": 35,
     "metadata": {},
     "output_type": "execute_result"
    },
    {
     "data": {
      "image/png": "[encoded data removed]",
      "text/plain": [
       "<matplotlib.figure.Figure at 0x7fb0b193ad90>"
      ]
     },
     "metadata": {},
     "output_type": "display_data"
    }
   ],
   "source": [
    "Z = np.dot(X, W)\n",
    "plt.axis([-3,3,-3,3])\n",
    "plt.scatter(Z[:,0], Z[:,1])"
   ]
  },
  {
   "cell_type": "markdown",
   "metadata": {},
   "source": [
    "We can see by printing $Z^T Z$ that it is effectively a diagonal matrix, where the first eigenvalue is 10 times bigger than the second. Thus, the first axis is the principal component, and we could remove the second axis without losing so much information."
   ]
  },
  {
   "cell_type": "code",
   "execution_count": 36,
   "metadata": {
    "collapsed": false
   },
   "outputs": [
    {
     "name": "stdout",
     "output_type": "stream",
     "text": [
      "[[  1.06412282e+01  -2.16493490e-15]\n",
      " [ -2.16493490e-15   9.63235225e+01]]\n"
     ]
    }
   ],
   "source": [
    "print np.dot(Z.transpose(), Z)"
   ]
  },
  {
   "cell_type": "code",
   "execution_count": null,
   "metadata": {
    "collapsed": true
   },
   "outputs": [],
   "source": []
  }
 ],
 "metadata": {
  "kernelspec": {
   "display_name": "Python 2",
   "language": "python",
   "name": "python2"
  },
  "language_info": {
   "codemirror_mode": {
    "name": "ipython",
    "version": 2
   },
   "file_extension": ".py",
   "mimetype": "text/x-python",
   "name": "python",
   "nbconvert_exporter": "python",
   "pygments_lexer": "ipython2",
   "version": "2.7.12"
  }
 },
 "nbformat": 4,
 "nbformat_minor": 0
}
